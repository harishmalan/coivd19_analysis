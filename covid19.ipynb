{
 "cells": [
  {
   "cell_type": "markdown",
   "metadata": {},
   "source": [
    "# **Covid19 Analysis**"
   ]
  },
  {
   "cell_type": "code",
   "execution_count": 8,
   "metadata": {},
   "outputs": [],
   "source": [
    "import pandas as pd\n",
    "import numpy as np"
   ]
  },
  {
   "cell_type": "code",
   "execution_count": 9,
   "metadata": {},
   "outputs": [],
   "source": [
    "# Dataset\n",
    "df_confirmed = pd.read_csv('https://raw.githubusercontent.com/CSSEGISandData/COVID-19/master/csse_covid_19_data/csse_covid_19_time_series/time_series_covid19_confirmed_global.csv')\n",
    "df_deaths = pd.read_csv('https://raw.githubusercontent.com/CSSEGISandData/COVID-19/master/csse_covid_19_data/csse_covid_19_time_series/time_series_covid19_deaths_global.csv')\n",
    "df_covid19 = pd.read_csv(\"https://raw.githubusercontent.com/CSSEGISandData/COVID-19/web-data/data/cases_country.csv\")\n",
    "df_table = pd.read_csv(\"https://raw.githubusercontent.com/CSSEGISandData/COVID-19/web-data/data/cases_time.csv\",parse_dates=['Last_Update'])"
   ]
  },
  {
   "cell_type": "code",
   "execution_count": 10,
   "metadata": {},
   "outputs": [],
   "source": [
    "df_confirmed = df_confirmed.rename(columns={\"Province/State\":\"state\",\"Country/Region\": \"country\"})\n",
    "df_deaths = df_deaths.rename(columns={\"Province/State\":\"state\",\"Country/Region\": \"country\"})\n",
    "df_covid19 = df_covid19.rename(columns={\"Country_Region\": \"country\"})\n",
    "df_table = df_covid19.rename(columns={\"Country_Region\": \"country\"})\n",
    "df_covid19[\"Active\"] = df_covid19[\"Confirmed\"]-df_covid19[\"Recovered\"]-df_covid19[\"Deaths\"]"
   ]
  },
  {
   "cell_type": "code",
   "execution_count": 11,
   "metadata": {},
   "outputs": [],
   "source": [
    "my_dict_pycountry = {\n",
    "    'US': 'USA', \n",
    "    'Korea, South': 'South Korea', \n",
    "    'Taiwan*': 'Taiwan',\n",
    "    'Congo (Kinshasa)': 'Democratic Republic of the Congo',\n",
    "    \"Cote d'Ivoire\": \"Côte d'Ivoire\",\n",
    "    \"Reun:ion\": \"Réunion\",\n",
    "    \"Congo (Brazzaville)\": \"Republic of the Congo\",\n",
    "    'Bahamas, The': 'Bahamas',\n",
    "    'Gambia, The': 'Gambia'\n",
    "     }\n",
    "for key, value in my_dict_pycountry.items():\n",
    "    for df_name in [df_confirmed, df_deaths, df_covid19, df_table]:\n",
    "        df_name.loc[df_name['country'] == key, \"country\"] = value"
   ]
  },
  {
   "cell_type": "code",
   "execution_count": 12,
   "metadata": {},
   "outputs": [],
   "source": [
    "import pycountry_convert as pc\n",
    "countries = np.asarray(df_confirmed[\"country\"])\n",
    "countries1 = np.asarray(df_covid19[\"country\"])\n",
    "# Continent_code to Continent_names\n",
    "continents = {\n",
    "    'NA': 'North America',\n",
    "    'SA': 'South America', \n",
    "    'AS': 'Asia',\n",
    "    'OC': 'Australia',\n",
    "    'AF': 'Africa',\n",
    "    'EU' : 'Europe',\n",
    "    'na' : 'Others'\n",
    "}\n",
    "\n",
    "# Defininng Function for getting continent code for country.\n",
    "def country_to_continent_code(country):\n",
    "    try:\n",
    "        return pc.country_alpha2_to_continent_code(pc.country_name_to_country_alpha2(country))\n",
    "    except :\n",
    "        return 'na'\n",
    "\n",
    "#Collecting Continent Information\n",
    "df_confirmed.insert(2,\"continent\", [continents[country_to_continent_code(country)] for country in countries[:]])\n",
    "df_deaths.insert(2,\"continent\",  [continents[country_to_continent_code(country)] for country in countries[:]])\n",
    "df_covid19.insert(1,\"continent\",  [continents[country_to_continent_code(country)] for country in countries1[:]])\n",
    "df_table.insert(1,\"continent\",  [continents[country_to_continent_code(country)] for country in df_table[\"country\"].values])"
   ]
  },
  {
   "cell_type": "code",
   "execution_count": 13,
   "metadata": {},
   "outputs": [],
   "source": [
    "### remove Data from other continment\n",
    "df_table = df_table[df_table[\"continent\"] != \"Others\"]"
   ]
  },
  {
   "cell_type": "code",
   "execution_count": 14,
   "metadata": {},
   "outputs": [
    {
     "output_type": "execute_result",
     "data": {
      "text/plain": "    state             country continent        Lat        Long  1/22/20  \\\n88    NaN    Diamond Princess    Others   0.000000    0.000000        0   \n127   NaN            Holy See    Others  41.902900   12.453400        0   \n236   NaN         Timor-Leste    Others  -8.874217  125.727539        0   \n240   NaN  West Bank and Gaza    Others  31.952200   35.233200        0   \n246   NaN              Kosovo    Others  42.602636   20.902977        0   \n247   NaN               Burma    Others  21.916200   95.956000        0   \n251   NaN          MS Zaandam    Others   0.000000    0.000000        0   \n260   NaN      Western Sahara    Others  24.215500  -12.885800        0   \n\n     1/23/20  1/24/20  1/25/20  1/26/20  ...  5/8/20  5/9/20  5/10/20  \\\n88         0        0        0        0  ...      13      13       13   \n127        0        0        0        0  ...       0       0        0   \n236        0        0        0        0  ...       0       0        0   \n240        0        0        0        0  ...       2       2        2   \n246        0        0        0        0  ...      27      28       28   \n247        0        0        0        0  ...       6       6        6   \n251        0        0        0        0  ...       2       2        2   \n260        0        0        0        0  ...       0       0        0   \n\n     5/11/20  5/12/20  5/13/20  5/14/20  5/15/20  5/16/20  5/17/20  \n88        13       13       13       13       13       13       13  \n127        0        0        0        0        0        0        0  \n236        0        0        0        0        0        0        0  \n240        2        2        2        2        2        2        2  \n246       28       29       29       29       29       29       29  \n247        6        6        6        6        6        6        6  \n251        2        2        2        2        2        2        2  \n260        0        0        0        0        0        0        0  \n\n[8 rows x 122 columns]",
      "text/html": "<div>\n<style scoped>\n    .dataframe tbody tr th:only-of-type {\n        vertical-align: middle;\n    }\n\n    .dataframe tbody tr th {\n        vertical-align: top;\n    }\n\n    .dataframe thead th {\n        text-align: right;\n    }\n</style>\n<table border=\"1\" class=\"dataframe\">\n  <thead>\n    <tr style=\"text-align: right;\">\n      <th></th>\n      <th>state</th>\n      <th>country</th>\n      <th>continent</th>\n      <th>Lat</th>\n      <th>Long</th>\n      <th>1/22/20</th>\n      <th>1/23/20</th>\n      <th>1/24/20</th>\n      <th>1/25/20</th>\n      <th>1/26/20</th>\n      <th>...</th>\n      <th>5/8/20</th>\n      <th>5/9/20</th>\n      <th>5/10/20</th>\n      <th>5/11/20</th>\n      <th>5/12/20</th>\n      <th>5/13/20</th>\n      <th>5/14/20</th>\n      <th>5/15/20</th>\n      <th>5/16/20</th>\n      <th>5/17/20</th>\n    </tr>\n  </thead>\n  <tbody>\n    <tr>\n      <th>88</th>\n      <td>NaN</td>\n      <td>Diamond Princess</td>\n      <td>Others</td>\n      <td>0.000000</td>\n      <td>0.000000</td>\n      <td>0</td>\n      <td>0</td>\n      <td>0</td>\n      <td>0</td>\n      <td>0</td>\n      <td>...</td>\n      <td>13</td>\n      <td>13</td>\n      <td>13</td>\n      <td>13</td>\n      <td>13</td>\n      <td>13</td>\n      <td>13</td>\n      <td>13</td>\n      <td>13</td>\n      <td>13</td>\n    </tr>\n    <tr>\n      <th>127</th>\n      <td>NaN</td>\n      <td>Holy See</td>\n      <td>Others</td>\n      <td>41.902900</td>\n      <td>12.453400</td>\n      <td>0</td>\n      <td>0</td>\n      <td>0</td>\n      <td>0</td>\n      <td>0</td>\n      <td>...</td>\n      <td>0</td>\n      <td>0</td>\n      <td>0</td>\n      <td>0</td>\n      <td>0</td>\n      <td>0</td>\n      <td>0</td>\n      <td>0</td>\n      <td>0</td>\n      <td>0</td>\n    </tr>\n    <tr>\n      <th>236</th>\n      <td>NaN</td>\n      <td>Timor-Leste</td>\n      <td>Others</td>\n      <td>-8.874217</td>\n      <td>125.727539</td>\n      <td>0</td>\n      <td>0</td>\n      <td>0</td>\n      <td>0</td>\n      <td>0</td>\n      <td>...</td>\n      <td>0</td>\n      <td>0</td>\n      <td>0</td>\n      <td>0</td>\n      <td>0</td>\n      <td>0</td>\n      <td>0</td>\n      <td>0</td>\n      <td>0</td>\n      <td>0</td>\n    </tr>\n    <tr>\n      <th>240</th>\n      <td>NaN</td>\n      <td>West Bank and Gaza</td>\n      <td>Others</td>\n      <td>31.952200</td>\n      <td>35.233200</td>\n      <td>0</td>\n      <td>0</td>\n      <td>0</td>\n      <td>0</td>\n      <td>0</td>\n      <td>...</td>\n      <td>2</td>\n      <td>2</td>\n      <td>2</td>\n      <td>2</td>\n      <td>2</td>\n      <td>2</td>\n      <td>2</td>\n      <td>2</td>\n      <td>2</td>\n      <td>2</td>\n    </tr>\n    <tr>\n      <th>246</th>\n      <td>NaN</td>\n      <td>Kosovo</td>\n      <td>Others</td>\n      <td>42.602636</td>\n      <td>20.902977</td>\n      <td>0</td>\n      <td>0</td>\n      <td>0</td>\n      <td>0</td>\n      <td>0</td>\n      <td>...</td>\n      <td>27</td>\n      <td>28</td>\n      <td>28</td>\n      <td>28</td>\n      <td>29</td>\n      <td>29</td>\n      <td>29</td>\n      <td>29</td>\n      <td>29</td>\n      <td>29</td>\n    </tr>\n    <tr>\n      <th>247</th>\n      <td>NaN</td>\n      <td>Burma</td>\n      <td>Others</td>\n      <td>21.916200</td>\n      <td>95.956000</td>\n      <td>0</td>\n      <td>0</td>\n      <td>0</td>\n      <td>0</td>\n      <td>0</td>\n      <td>...</td>\n      <td>6</td>\n      <td>6</td>\n      <td>6</td>\n      <td>6</td>\n      <td>6</td>\n      <td>6</td>\n      <td>6</td>\n      <td>6</td>\n      <td>6</td>\n      <td>6</td>\n    </tr>\n    <tr>\n      <th>251</th>\n      <td>NaN</td>\n      <td>MS Zaandam</td>\n      <td>Others</td>\n      <td>0.000000</td>\n      <td>0.000000</td>\n      <td>0</td>\n      <td>0</td>\n      <td>0</td>\n      <td>0</td>\n      <td>0</td>\n      <td>...</td>\n      <td>2</td>\n      <td>2</td>\n      <td>2</td>\n      <td>2</td>\n      <td>2</td>\n      <td>2</td>\n      <td>2</td>\n      <td>2</td>\n      <td>2</td>\n      <td>2</td>\n    </tr>\n    <tr>\n      <th>260</th>\n      <td>NaN</td>\n      <td>Western Sahara</td>\n      <td>Others</td>\n      <td>24.215500</td>\n      <td>-12.885800</td>\n      <td>0</td>\n      <td>0</td>\n      <td>0</td>\n      <td>0</td>\n      <td>0</td>\n      <td>...</td>\n      <td>0</td>\n      <td>0</td>\n      <td>0</td>\n      <td>0</td>\n      <td>0</td>\n      <td>0</td>\n      <td>0</td>\n      <td>0</td>\n      <td>0</td>\n      <td>0</td>\n    </tr>\n  </tbody>\n</table>\n<p>8 rows × 122 columns</p>\n</div>"
     },
     "metadata": {},
     "execution_count": 14
    }
   ],
   "source": [
    "df_deaths[df_deaths[\"continent\" ]== 'Others']"
   ]
  },
  {
   "cell_type": "code",
   "execution_count": 15,
   "metadata": {},
   "outputs": [],
   "source": [
    "df_confirmed = df_confirmed.replace(np.nan, '', regex=True)\n",
    "df_deaths = df_deaths.replace(np.nan, '', regex=True)"
   ]
  },
  {
   "cell_type": "code",
   "execution_count": 16,
   "metadata": {},
   "outputs": [],
   "source": [
    "def plot_params(ax,axis_label= None, plt_title = None,label_size=15, axis_fsize = 15, title_fsize = 20, scale = 'linear' ):\n",
    "    # Tick-Parameters\n",
    "    ax.xaxis.set_minor_locator(ticker.AutoMinorLocator())\n",
    "    ax.yaxis.set_minor_locator(ticker.AutoMinorLocator())\n",
    "    ax.tick_params(which='both', width=1,labelsize=label_size)\n",
    "    ax.tick_params(which='major', length=6)\n",
    "    ax.tick_params(which='minor', length=3, color='0.8')\n",
    "    \n",
    "    # Grid\n",
    "    plt.grid(lw = 1, ls = '-', c = \"0.7\", which = 'major')\n",
    "    plt.grid(lw = 1, ls = '-', c = \"0.9\", which = 'minor')\n",
    "\n",
    "    # Plot Title\n",
    "    plt.title( plt_title,{'fontsize':title_fsize})\n",
    "    \n",
    "    # Yaxis sacle\n",
    "    plt.yscale(scale)\n",
    "    plt.minorticks_on()\n",
    "    # Plot Axes Labels\n",
    "    xl = plt.xlabel(axis_label[0],fontsize = axis_fsize)\n",
    "    yl = plt.ylabel(axis_label[1],fontsize = axis_fsize)\n",
    "    \n",
    "def visualize_covid_cases(confirmed, deaths, continent=None , country = None , state = None, period = None, figure = None, scale = \"linear\"):\n",
    "    x = 0\n",
    "    if figure == None:\n",
    "        f = plt.figure(figsize=(10,10))\n",
    "        # Sub plot\n",
    "        ax = f.add_subplot(111)\n",
    "    else :\n",
    "        f = figure[0]\n",
    "        # Sub plot\n",
    "        ax = f.add_subplot(figure[1],figure[2],figure[3])\n",
    "    ax.set_axisbelow(True)\n",
    "    plt.tight_layout(pad=10, w_pad=5, h_pad=5)\n",
    "    \n",
    "    stats = [confirmed, deaths]\n",
    "    label = [\"Confirmed\", \"Deaths\"]\n",
    "    \n",
    "    if continent != None:\n",
    "        params = [\"continent\",continent]\n",
    "    elif country != None:\n",
    "        params = [\"country\",country]\n",
    "    else: \n",
    "        params = [\"All\", \"All\"]\n",
    "    color = [\"darkcyan\",\"crimson\"]\n",
    "    marker_style = dict(linewidth=3, linestyle='-', marker='o',markersize=4, markerfacecolor='#ffffff')\n",
    "    for i,stat in enumerate(stats):\n",
    "        if params[1] == \"All\" :\n",
    "            cases = np.sum(np.asarray(stat.iloc[:,5:]),axis = 0)[x:]\n",
    "        else :\n",
    "            cases = np.sum(np.asarray(stat[stat[params[0]] == params[1]].iloc[:,5:]),axis = 0)[x:]\n",
    "        date = np.arange(1,cases.shape[0]+1)[x:]\n",
    "        plt.plot(date,cases,label = label[i]+\" (Total : \"+str(cases[-1])+\")\",color=color[i],**marker_style)\n",
    "        plt.fill_between(date,cases,color=color[i],alpha=0.3)\n",
    "\n",
    "    if params[1] == \"All\" :\n",
    "        Total_confirmed = np.sum(np.asarray(stats[0].iloc[:,5:]),axis = 0)[x:]\n",
    "        Total_deaths = np.sum(np.asarray(stats[1].iloc[:,5:]),axis = 0)[x:]\n",
    "    else :\n",
    "        Total_confirmed =  np.sum(np.asarray(stats[0][stat[params[0]] == params[1]].iloc[:,5:]),axis = 0)[x:]\n",
    "        Total_deaths = np.sum(np.asarray(stats[1][stat[params[0]] == params[1]].iloc[:,5:]),axis = 0)[x:]\n",
    "        \n",
    "    text = \"From \"+stats[0].columns[5]+\" to \"+stats[0].columns[-1]+\"\\n\"\n",
    "    text += \"Mortality rate : \"+ str(int(Total_deaths[-1]/(Total_confirmed[-1])*10000)/100)+\"\\n\"\n",
    "    text += \"Last 5 Days:\\n\"\n",
    "    text += \"Confirmed : \" + str(Total_confirmed[-1] - Total_confirmed[-6])+\"\\n\"\n",
    "    text += \"Deaths : \" + str(Total_deaths[-1] - Total_deaths[-6])+\"\\n\"\n",
    "    text += \"Last 24 Hours:\\n\"\n",
    "    text += \"Confirmed : \" + str(Total_confirmed[-1] - Total_confirmed[-2])+\"\\n\"\n",
    "    text += \"Deaths : \" + str(Total_deaths[-1] - Total_deaths[-2])+\"\\n\"\n",
    "    \n",
    "    plt.text(0.02, 0.78, text, fontsize=15, horizontalalignment='left', verticalalignment='top', transform=ax.transAxes,bbox=dict(facecolor='white', alpha=0.4))\n",
    "    \n",
    "    # Plot Axes Labels\n",
    "    axis_label = [\"Days (\"+df_confirmed.columns[5]+\" - \"+df_confirmed.columns[-1]+\")\",\"No of Cases\"]\n",
    "    \n",
    "    # Plot Parameters\n",
    "    plot_params(ax,axis_label,scale = scale)\n",
    "    \n",
    "    # Plot Title\n",
    "    if params[1] == \"All\" :\n",
    "        plt.title(\"COVID-19 Cases World\",{'fontsize':25})\n",
    "    else:   \n",
    "        plt.title(\"COVID-19 Cases for \"+params[1] ,{'fontsize':25})\n",
    "        \n",
    "    # Legend Location\n",
    "    l = plt.legend(loc= \"best\",fontsize = 15)\n",
    "    \n",
    "    if figure == None:\n",
    "        plt.show()\n",
    "        \n",
    "def get_total_cases(cases, country = \"All\"):\n",
    "    if(country == \"All\") :\n",
    "        return np.sum(np.asarray(cases.iloc[:,5:]),axis = 0)[-1]\n",
    "    else :\n",
    "        return np.sum(np.asarray(cases[cases[\"country\"] == country].iloc[:,5:]),axis = 0)[-1]\n",
    "    \n",
    "def get_mortality_rate(confirmed,deaths, continent = None, country = None):\n",
    "    if continent != None:\n",
    "        params = [\"continent\",continent]\n",
    "    elif country != None:\n",
    "        params = [\"country\",country]\n",
    "    else :\n",
    "        params = [\"All\", \"All\"]\n",
    "    \n",
    "    if params[1] == \"All\" :\n",
    "        Total_confirmed = np.sum(np.asarray(confirmed.iloc[:,5:]),axis = 0)\n",
    "        Total_deaths = np.sum(np.asarray(deaths.iloc[:,5:]),axis = 0)\n",
    "        mortality_rate = np.round((Total_deaths/(Total_confirmed+1.01))*100,2)\n",
    "    else :\n",
    "        Total_confirmed =  np.sum(np.asarray(confirmed[confirmed[params[0]] == params[1]].iloc[:,5:]),axis = 0)\n",
    "        Total_deaths = np.sum(np.asarray(deaths[deaths[params[0]] == params[1]].iloc[:,5:]),axis = 0)\n",
    "        mortality_rate = np.round((Total_deaths/(Total_confirmed+1.01))*100,2)\n",
    "    \n",
    "    return np.nan_to_num(mortality_rate)\n",
    "def dd(date1,date2):\n",
    "    return (datetime.strptime(date1,'%m/%d/%y') - datetime.strptime(date2,'%m/%d/%y')).days\n",
    "\n",
    "\n",
    "out = \"\"#+\"output/\""
   ]
  },
  {
   "cell_type": "code",
   "execution_count": 17,
   "metadata": {},
   "outputs": [],
   "source": [
    "df_countries_cases = df_covid19.copy().drop(['Lat','Long_','continent','Last_Update'],axis =1)\n",
    "df_countries_cases.index = df_countries_cases[\"country\"]\n",
    "df_countries_cases = df_countries_cases.drop(['country'],axis=1)\n",
    "\n",
    "df_continents_cases = df_covid19.copy().drop(['Lat','Long_','country','Last_Update'],axis =1)\n",
    "df_continents_cases = df_continents_cases.groupby([\"continent\"]).sum()\n",
    "\n",
    "df_countries_cases.fillna(0,inplace=True)\n",
    "df_continents_cases.fillna(0,inplace=True)"
   ]
  },
  {
   "cell_type": "code",
   "execution_count": null,
   "metadata": {},
   "outputs": [],
   "source": []
  }
 ],
 "metadata": {
  "kernelspec": {
   "display_name": "Python 3",
   "language": "python",
   "name": "python3"
  },
  "language_info": {
   "codemirror_mode": {
    "name": "ipython",
    "version": 3
   },
   "file_extension": ".py",
   "mimetype": "text/x-python",
   "name": "python",
   "nbconvert_exporter": "python",
   "pygments_lexer": "ipython3",
   "version": "3.7.6-final"
  }
 },
 "nbformat": 4,
 "nbformat_minor": 4
}