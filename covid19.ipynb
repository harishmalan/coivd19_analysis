{
 "cells": [
  {
   "cell_type": "markdown",
   "metadata": {},
   "source": [
    "# **Covid19 Analysis**"
   ]
  },
  {
   "cell_type": "code",
   "execution_count": 9,
   "metadata": {},
   "outputs": [],
   "source": [
    "import pandas as pd\n",
    "import numpy as np"
   ]
  },
  {
   "cell_type": "code",
   "execution_count": 5,
   "metadata": {},
   "outputs": [],
   "source": [
    "# Retriving Dataset\n",
    "df_confirmed = pd.read_csv('https://raw.githubusercontent.com/CSSEGISandData/COVID-19/master/csse_covid_19_data/csse_covid_19_time_series/time_series_covid19_confirmed_global.csv')\n",
    "df_death = pd.read_csv('https://raw.githubusercontent.com/CSSEGISandData/COVID-19/master/csse_covid_19_data/csse_covid_19_time_series/time_series_covid19_deaths_global.csv')\n",
    "\n",
    "# Depricated\n",
    "df_covid19 = pd.read_csv(\"https://raw.githubusercontent.com/CSSEGISandData/COVID-19/web-data/data/cases_country.csv\")\n",
    "df_table = pd.read_csv(\"https://raw.githubusercontent.com/CSSEGISandData/COVID-19/web-data/data/cases_time.csv\",parse_dates=['Last_Update'])"
   ]
  },
  {
   "cell_type": "code",
   "execution_count": 7,
   "metadata": {},
   "outputs": [],
   "source": [
    "df_confirmed = df_confirmed.rename(columns={\"Province/State\":\"state\",\"Country/Region\": \"country\"})\n",
    "df_death = df_death.rename(columns={\"Province/State\":\"state\",\"Country/Region\": \"country\"})\n",
    "df_covid19 = df_covid19.rename(columns={\"Country_Region\": \"country\"})\n",
    "df_covid19[\"Active\"] = df_covid19[\"Confirmed\"]-df_covid19[\"Recovered\"]-df_covid19[\"Deaths\"]"
   ]
  },
  {
   "cell_type": "code",
   "execution_count": 10,
   "metadata": {},
   "outputs": [],
   "source": [
    "countries = np.asarray(df_confirmed[\"country\"])\n",
    "countries1 = np.asarray(df_covid19[\"country\"])\n",
    "# Continent_code to Continent_names\n",
    "continents = {\n",
    "    'NA': 'North America',\n",
    "    'SA': 'South America', \n",
    "    'AS': 'Asia',\n",
    "    'OC': 'Australia',\n",
    "    'AF': 'Africa',\n",
    "    'EU' : 'Europe',\n",
    "    'na' : 'Others'\n",
    "}\n",
    "\n",
    "# Defininng Function for getting continent code for country.\n",
    "def country_to_continent_code(country):\n",
    "    try:\n",
    "        return pc.country_alpha2_to_continent_code(pc.country_name_to_country_alpha2(country))\n",
    "    except :\n",
    "        return 'na'\n",
    "\n",
    "#Collecting Continent Information\n",
    "df_confirmed.insert(2,\"continent\", [continents[country_to_continent_code(country)] for country in countries[:]])\n",
    "df_death.insert(2,\"continent\",  [continents[country_to_continent_code(country)] for country in countries[:]])\n",
    "df_covid19.insert(1,\"continent\",  [continents[country_to_continent_code(country)] for country in countries1[:]])\n",
    "df_table.insert(1,\"continent\",  [continents[country_to_continent_code(country)] for country in df_table[\"Country_Region\"].values])"
   ]
  },
  {
   "cell_type": "code",
   "execution_count": null,
   "metadata": {},
   "outputs": [],
   "source": []
  }
 ],
 "metadata": {
  "kernelspec": {
   "display_name": "Python 3",
   "language": "python",
   "name": "python3"
  },
  "language_info": {
   "codemirror_mode": {
    "name": "ipython",
    "version": 3
   },
   "file_extension": ".py",
   "mimetype": "text/x-python",
   "name": "python",
   "nbconvert_exporter": "python",
   "pygments_lexer": "ipython3",
   "version": "3.7.6-final"
  }
 },
 "nbformat": 4,
 "nbformat_minor": 4
}